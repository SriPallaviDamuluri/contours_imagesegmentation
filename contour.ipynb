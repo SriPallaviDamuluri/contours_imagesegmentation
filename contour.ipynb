{
 "cells": [
  {
   "cell_type": "code",
   "execution_count": 4,
   "metadata": {},
   "outputs": [
    {
     "data": {
      "image/png": "[encoded data removed]",
      "text/plain": [
       "<matplotlib.figure.Figure at 0x7b5ec50>"
      ]
     },
     "metadata": {},
     "output_type": "display_data"
    },
    {
     "name": "stdout",
     "output_type": "stream",
     "text": [
      "number of coins: 8\n"
     ]
    }
   ],
   "source": [
    "import cv2\n",
    "import matplotlib.pyplot as plt\n",
    "import numpy as np\n",
    "img1=cv2.imread('coins.jpg')\n",
    "g_img=cv2.cvtColor(img1, cv2.COLOR_BGR2GRAY)\n",
    "fimg= cv2.GaussianBlur(g_img, (5, 5), 0)\n",
    "ret,th = cv2.threshold(fimg,235,255,cv2.THRESH_BINARY)\n",
    "th= cv2.bitwise_not(th)\n",
    "plt.imshow(th,'gray')\n",
    "plt.xticks([]),plt.yticks([])\n",
    "plt.show()\n",
    "c_contours, _ = cv2.findContours(th, cv2.RETR_EXTERNAL, cv2.CHAIN_APPROX_SIMPLE)\n",
    "coins_and_contours = np.copy(img1)\n",
    "min_coin_area = 70\n",
    "large_contours = [cnt for cnt in c_contours if cv2.contourArea(cnt) > min_coin_area]\n",
    "cv2.drawContours(coins_and_contours, large_contours, -1, (255,0,0))\n",
    "print('number of coins: %d' % len(large_contours))\n"
   ]
  },
  {
   "cell_type": "code",
   "execution_count": null,
   "metadata": {
    "collapsed": true
   },
   "outputs": [],
   "source": []
  }
 ],
 "metadata": {
  "kernelspec": {
   "display_name": "Python [conda env:rp2]",
   "language": "python",
   "name": "conda-env-rp2-py"
  },
  "language_info": {
   "codemirror_mode": {
    "name": "ipython",
    "version": 2
   },
   "file_extension": ".py",
   "mimetype": "text/x-python",
   "name": "python",
   "nbconvert_exporter": "python",
   "pygments_lexer": "ipython2",
   "version": "2.7.13"
  }
 },
 "nbformat": 4,
 "nbformat_minor": 2
}
